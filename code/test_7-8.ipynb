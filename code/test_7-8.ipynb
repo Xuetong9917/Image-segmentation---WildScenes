{
 "cells": [
  {
   "cell_type": "markdown",
   "metadata": {},
   "source": [
    "## Pipeline"
   ]
  },
  {
   "cell_type": "code",
   "execution_count": 3,
   "metadata": {},
   "outputs": [],
   "source": [
    "# import os\n",
    "# from mmengine.config import Config\n",
    "# from mmengine.runner import Runner\n",
    "# from mmseg.registry import DATASETS\n",
    "# from mmseg.models import build_segmentor"
   ]
  },
  {
   "cell_type": "code",
   "execution_count": 4,
   "metadata": {},
   "outputs": [],
   "source": [
    "# 路径\n",
    "data_root = \"D:/jue/comp 9517 project/61541v001/data/git/WildScenes/data/processed/wildscenes_opt2d\""
   ]
  },
  {
   "cell_type": "code",
   "execution_count": 5,
   "metadata": {},
   "outputs": [],
   "source": [
    "data_prefix=dict(img_path=\"test/image\", seg_map_path=\"test/indexLabel\")\n",
    "crop_size = (512, 512)\n",
    "num_classes = 18"
   ]
  },
  {
   "cell_type": "code",
   "execution_count": 3,
   "metadata": {},
   "outputs": [
    {
     "name": "stdout",
     "output_type": "stream",
     "text": [
      "2.3.1+cu118\n",
      "11.8\n",
      "True\n",
      "NVIDIA GeForce RTX 2060 with Max-Q Design\n",
      "CUDA is available. Running on GPU.\n"
     ]
    }
   ],
   "source": [
    "import torch\n",
    "\n",
    "print(torch.__version__)  # 应显示 2.3.1\n",
    "print(torch.version.cuda)  # 应显示 12.1\n",
    "print(torch.cuda.is_available())  # 应显示 True\n",
    "print(torch.cuda.get_device_name(0))  # 如果有 GPU，应显示 GPU 名称\n",
    "\n",
    "\n",
    "if torch.cuda.is_available():\n",
    "    print(\"CUDA is available. Running on GPU.\")\n",
    "else:\n",
    "    print(\"CUDA is not available. Running on CPU.\")"
   ]
  }
 ],
 "metadata": {
  "kernelspec": {
   "display_name": "comp9517_project",
   "language": "python",
   "name": "python3"
  },
  "language_info": {
   "codemirror_mode": {
    "name": "ipython",
    "version": 3
   },
   "file_extension": ".py",
   "mimetype": "text/x-python",
   "name": "python",
   "nbconvert_exporter": "python",
   "pygments_lexer": "ipython3",
   "version": "3.10.14"
  }
 },
 "nbformat": 4,
 "nbformat_minor": 2
}
